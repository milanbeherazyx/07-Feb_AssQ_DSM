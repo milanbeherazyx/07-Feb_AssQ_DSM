{
 "cells": [
  {
   "cell_type": "code",
   "execution_count": 2,
   "id": "7e8351b3-40f3-4469-a533-323e65847e05",
   "metadata": {},
   "outputs": [
    {
     "data": {
      "text/plain": [
       "'\\nQ1. You are writing code for a company. The requirement of the company is that you create a python\\nfunction that will check whether the password entered by the user is correct or not. The function should\\ntake the password as input and return the string “Valid Password” if the entered password follows the\\nbelow-given password guidelines else it should return “Invalid Password”.\\nNote: 1. The Password should contain at least two uppercase letters and at least two lowercase letters.\\n2. The Password should contain at least a number and three special characters.\\n3. The length of the password should be 10 characters long.\\n'"
      ]
     },
     "execution_count": 2,
     "metadata": {},
     "output_type": "execute_result"
    }
   ],
   "source": [
    "\"\"\"\n",
    "Q1. You are writing code for a company. The requirement of the company is that you create a python\n",
    "function that will check whether the password entered by the user is correct or not. The function should\n",
    "take the password as input and return the string “Valid Password” if the entered password follows the\n",
    "below-given password guidelines else it should return “Invalid Password”.\n",
    "Note: 1. The Password should contain at least two uppercase letters and at least two lowercase letters.\n",
    "2. The Password should contain at least a number and three special characters.\n",
    "3. The length of the password should be 10 characters long.\n",
    "\"\"\""
   ]
  },
  {
   "cell_type": "code",
   "execution_count": 3,
   "id": "a0d14222-7898-48a6-a8e0-07c9b2465ad5",
   "metadata": {},
   "outputs": [],
   "source": [
    "import re\n",
    "\n",
    "def validate_password(password):\n",
    "    \"\"\"\n",
    "    Function to check if password meets requirements\n",
    "    \"\"\"\n",
    "    # Check length\n",
    "    if len(password) != 10:\n",
    "        return \"Invalid Password\"\n",
    "    \n",
    "    # Check uppercase letters\n",
    "    if len(re.findall(r'[A-Z]', password)) < 2:\n",
    "        return \"Invalid Password\"\n",
    "    \n",
    "    # Check lowercase letters\n",
    "    if len(re.findall(r'[a-z]', password)) < 2:\n",
    "        return \"Invalid Password\"\n",
    "    \n",
    "    # Check numbers\n",
    "    if len(re.findall(r'\\d', password)) < 1:\n",
    "        return \"Invalid Password\"\n",
    "    \n",
    "    # Check special characters\n",
    "    if len(re.findall(r'[!@#$%^&*(),.?\":{}|<>]', password)) < 3:\n",
    "        return \"Invalid Password\"\n",
    "    \n",
    "    # If all conditions are met, return Valid Password\n",
    "    return \"Valid Password\"\n"
   ]
  },
  {
   "cell_type": "code",
   "execution_count": 9,
   "id": "0ac358bf-edb8-46c8-a7cf-f8c6ca94802e",
   "metadata": {},
   "outputs": [
    {
     "data": {
      "text/plain": [
       "'\\nQ2. Solve the below-given questions using at least one of the following:\\n1. Lambda function\\n2. Filter function\\n3. Zap function\\n4. List Comprehension\\n-- Check if the string starts with a particular letter.\\n-- Check if the string is numeric.\\n-- Sort a list of tuples having fruit names and their quantity. [(\"mango\",99),(\"orange\",80), (\"grapes\", 1000)]\\n-- Find the squares of numbers from 1 to 10.\\n-- Find the cube root of numbers from 1 to 10.\\n-- Check if a given number is even.\\n-- Filter odd numbers from the given list.\\n[1,2,3,4,5,6,7,8,9,10]\\n-- Sort a list of integers into positive and negative integers lists.\\n[1,2,3,4,5,6,-1,-2,-3,-4,-5,0]\\n'"
      ]
     },
     "execution_count": 9,
     "metadata": {},
     "output_type": "execute_result"
    }
   ],
   "source": [
    "\"\"\"\n",
    "Q2. Solve the below-given questions using at least one of the following:\n",
    "1. Lambda function\n",
    "2. Filter function\n",
    "3. Zap function\n",
    "4. List Comprehension\n",
    "-- Check if the string starts with a particular letter.\n",
    "-- Check if the string is numeric.\n",
    "-- Sort a list of tuples having fruit names and their quantity. [(\"mango\",99),(\"orange\",80), (\"grapes\", 1000)]\n",
    "-- Find the squares of numbers from 1 to 10.\n",
    "-- Find the cube root of numbers from 1 to 10.\n",
    "-- Check if a given number is even.\n",
    "-- Filter odd numbers from the given list.\n",
    "[1,2,3,4,5,6,7,8,9,10]\n",
    "-- Sort a list of integers into positive and negative integers lists.\n",
    "[1,2,3,4,5,6,-1,-2,-3,-4,-5,0]\n",
    "\"\"\""
   ]
  },
  {
   "cell_type": "code",
   "execution_count": 10,
   "id": "ca2f832c-5b67-4925-94ac-9e9acb7781eb",
   "metadata": {},
   "outputs": [],
   "source": [
    "# 1. Lambda function"
   ]
  },
  {
   "cell_type": "code",
   "execution_count": 11,
   "id": "48acf480-217a-47cd-9f8e-bad5508a6399",
   "metadata": {},
   "outputs": [],
   "source": [
    "# Check if the string starts with a particular letter."
   ]
  },
  {
   "cell_type": "code",
   "execution_count": 27,
   "id": "d0843456-e489-4f0c-b287-2f64e1798efb",
   "metadata": {},
   "outputs": [
    {
     "name": "stdout",
     "output_type": "stream",
     "text": [
      "True\n"
     ]
    }
   ],
   "source": [
    "string = \"hello world\"\n",
    "letter = \"h\"\n",
    "starts_with_letter = lambda s, l: s.startswith(l)\n",
    "print(starts_with_letter(string, letter)) # True\n"
   ]
  },
  {
   "cell_type": "code",
   "execution_count": null,
   "id": "bf438962-173f-43e4-a78c-a9909442cb51",
   "metadata": {},
   "outputs": [],
   "source": [
    "# Check if the string is numeric."
   ]
  },
  {
   "cell_type": "code",
   "execution_count": 12,
   "id": "f57c7944-5973-4b0f-9a4e-e09f651df030",
   "metadata": {},
   "outputs": [
    {
     "name": "stdout",
     "output_type": "stream",
     "text": [
      "True\n",
      "False\n",
      "False\n"
     ]
    }
   ],
   "source": [
    "string1 = \"1234\"\n",
    "string2 = \"12.34\"\n",
    "string3 = \"12a34\"\n",
    "is_numeric = lambda s: s.isnumeric()\n",
    "print(is_numeric(string1)) # True\n",
    "print(is_numeric(string2)) # False\n",
    "print(is_numeric(string3)) # False\n"
   ]
  },
  {
   "cell_type": "code",
   "execution_count": 13,
   "id": "ee083664-11b9-4d4a-95b3-717740b76287",
   "metadata": {},
   "outputs": [],
   "source": [
    "# Sort a list of tuples having fruit names and their quantity. [(\"mango\",99),(\"orange\",80), (\"grapes\", 1000)]"
   ]
  },
  {
   "cell_type": "code",
   "execution_count": 14,
   "id": "82c9726e-0726-4fb1-8dde-fc0d8e2371da",
   "metadata": {},
   "outputs": [
    {
     "name": "stdout",
     "output_type": "stream",
     "text": [
      "[('orange', 80), ('mango', 99), ('grapes', 1000)]\n"
     ]
    }
   ],
   "source": [
    "fruits = [(\"mango\",99),(\"orange\",80), (\"grapes\", 1000)]\n",
    "fruits_sorted = sorted(fruits, key=lambda x: x[1])\n",
    "print(fruits_sorted)\n"
   ]
  },
  {
   "cell_type": "code",
   "execution_count": 15,
   "id": "3d46e17d-9e73-481a-b2e5-53edb6e46e60",
   "metadata": {},
   "outputs": [],
   "source": [
    "# Find the squares of numbers from 1 to 10."
   ]
  },
  {
   "cell_type": "code",
   "execution_count": 16,
   "id": "87d493fc-753c-4719-a046-82d8fb8c266f",
   "metadata": {},
   "outputs": [
    {
     "name": "stdout",
     "output_type": "stream",
     "text": [
      "[1, 4, 9, 16, 25, 36, 49, 64, 81, 100]\n"
     ]
    }
   ],
   "source": [
    "squares = list(map(lambda x: x**2, range(1, 11)))\n",
    "print(squares)\n"
   ]
  },
  {
   "cell_type": "code",
   "execution_count": 17,
   "id": "5c96bf62-4203-41d9-b571-d7d9d888fedb",
   "metadata": {},
   "outputs": [],
   "source": [
    "# Find the cube root of numbers from 1 to 10."
   ]
  },
  {
   "cell_type": "code",
   "execution_count": 18,
   "id": "b4a633e1-d80f-4ee9-9fb6-8924523ef46d",
   "metadata": {},
   "outputs": [
    {
     "name": "stdout",
     "output_type": "stream",
     "text": [
      "[1.0, 1.2599210498948732, 1.4422495703074083, 1.5874010519681994, 1.7099759466766968, 1.8171205928321397, 1.912931182772389, 2.0, 2.080083823051904, 2.154434690031884]\n"
     ]
    }
   ],
   "source": [
    "import math\n",
    "cube_roots = list(map(lambda x: math.pow(x, 1/3), range(1, 11)))\n",
    "print(cube_roots)\n"
   ]
  },
  {
   "cell_type": "code",
   "execution_count": 19,
   "id": "59675f28-2a0d-4c53-b6e5-1acfdb1af696",
   "metadata": {},
   "outputs": [],
   "source": [
    "# Check if a given number is even."
   ]
  },
  {
   "cell_type": "code",
   "execution_count": 20,
   "id": "a7ef2e38-e1a4-4973-b5ba-a7ff45e2390f",
   "metadata": {},
   "outputs": [
    {
     "name": "stdout",
     "output_type": "stream",
     "text": [
      "True\n",
      "False\n"
     ]
    }
   ],
   "source": [
    "is_even = lambda x: x % 2 == 0\n",
    "print(is_even(2))\n",
    "print(is_even(3))\n"
   ]
  },
  {
   "cell_type": "code",
   "execution_count": 21,
   "id": "5e34bb83-159d-4022-bfdf-ce2d917265ba",
   "metadata": {},
   "outputs": [],
   "source": [
    "# Filter odd numbers from the given list. [1,2,3,4,5,6,7,8,9,10]"
   ]
  },
  {
   "cell_type": "code",
   "execution_count": 22,
   "id": "0c886306-19c1-4abe-a598-86a1d6bff8f7",
   "metadata": {},
   "outputs": [
    {
     "name": "stdout",
     "output_type": "stream",
     "text": [
      "[1, 3, 5, 7, 9]\n"
     ]
    }
   ],
   "source": [
    "numbers = [1,2,3,4,5,6,7,8,9,10]\n",
    "odd_numbers = list(filter(lambda x: x%2 != 0, numbers))\n",
    "print(odd_numbers)\n"
   ]
  },
  {
   "cell_type": "code",
   "execution_count": 23,
   "id": "83907e51-4226-4a86-be18-327f1bfc0e8a",
   "metadata": {},
   "outputs": [],
   "source": [
    "# Sort a list of integers into positive and negative integers lists. [1,2,3,4,5,6,-1,-2,-3,-4,-5,0]"
   ]
  },
  {
   "cell_type": "code",
   "execution_count": 24,
   "id": "538e1b14-33d6-44ce-a6c5-3cfe0e4aadbc",
   "metadata": {},
   "outputs": [
    {
     "name": "stdout",
     "output_type": "stream",
     "text": [
      "[1, 2, 3, 4, 5, 6]\n",
      "[-5, -4, -3, -2, -1]\n"
     ]
    }
   ],
   "source": [
    "numbers = [1,2,3,4,5,6,-1,-2,-3,-4,-5,0]\n",
    "positive_numbers = sorted(filter(lambda x: x>0, numbers))\n",
    "negative_numbers = sorted(filter(lambda x: x<0, numbers))\n",
    "print(positive_numbers)\n",
    "print(negative_numbers)"
   ]
  },
  {
   "cell_type": "code",
   "execution_count": 25,
   "id": "b2340b35-f53a-4dc5-86e1-b463536d1593",
   "metadata": {},
   "outputs": [],
   "source": [
    "# 2. Filter function"
   ]
  },
  {
   "cell_type": "code",
   "execution_count": 26,
   "id": "9a2e3bb2-56ce-408c-8eec-3ea054a47c5a",
   "metadata": {},
   "outputs": [
    {
     "name": "stdout",
     "output_type": "stream",
     "text": [
      "['apple']\n"
     ]
    }
   ],
   "source": [
    "#Check if the string starts with a particular letter.\n",
    "strings = [\"apple\", \"banana\", \"cherry\", \"orange\"]\n",
    "letter = \"a\"\n",
    "starts_with_a = list(filter(lambda x: x.startswith(letter), strings))\n",
    "print(starts_with_a)\n"
   ]
  },
  {
   "cell_type": "code",
   "execution_count": 28,
   "id": "15ebb2b9-0fbd-4094-8e2f-a50979f9cac2",
   "metadata": {},
   "outputs": [
    {
     "name": "stdout",
     "output_type": "stream",
     "text": [
      "['123', '456', '789']\n"
     ]
    }
   ],
   "source": [
    "#Check if the string is numeric.\n",
    "strings = [\"123\", \"abc\", \"456\", \"def\", \"789\"]\n",
    "numeric_strings = list(filter(lambda x: x.isnumeric(), strings))\n",
    "print(numeric_strings)\n"
   ]
  },
  {
   "cell_type": "code",
   "execution_count": 29,
   "id": "49d9b62a-2dab-4775-9939-66c654d65702",
   "metadata": {},
   "outputs": [
    {
     "name": "stdout",
     "output_type": "stream",
     "text": [
      "[('orange', 80), ('mango', 99), ('grapes', 1000)]\n"
     ]
    }
   ],
   "source": [
    "# Sort a list of tuples having fruit names and their quantity. [(\"mango\",99),(\"orange\",80), (\"grapes\", 1000)]\n",
    "fruits = [(\"mango\",99),(\"orange\",80), (\"grapes\", 1000)]\n",
    "fruits_sorted = sorted(fruits, key=lambda x: x[1])\n",
    "print(fruits_sorted)\n"
   ]
  },
  {
   "cell_type": "code",
   "execution_count": 30,
   "id": "15f77a0b-27a7-4d03-8962-b6aabc8065d9",
   "metadata": {},
   "outputs": [
    {
     "name": "stdout",
     "output_type": "stream",
     "text": [
      "[4, 16, 36, 64, 100]\n"
     ]
    }
   ],
   "source": [
    "# Find the squares of numbers from 1 to 10.\n",
    "numbers = range(1, 11)\n",
    "squares = list(filter(lambda x: x % 2 == 0, map(lambda x: x**2, numbers)))\n",
    "print(squares)\n"
   ]
  },
  {
   "cell_type": "code",
   "execution_count": 34,
   "id": "6e057c37-540e-4858-ba6f-d5e68a577148",
   "metadata": {},
   "outputs": [
    {
     "name": "stdout",
     "output_type": "stream",
     "text": [
      "[1.0]\n"
     ]
    }
   ],
   "source": [
    "# Find the cube root of numbers from 1 to 10.\n",
    "import math\n",
    "numbers = range(1, 11)\n",
    "cube_roots = list(filter(lambda x: x % 2 == 1, map(lambda x: math.pow(x, 1/3), numbers)))\n",
    "print(cube_roots)\n"
   ]
  },
  {
   "cell_type": "code",
   "execution_count": 35,
   "id": "c76050d2-187d-47dd-91d0-bc2dffd1d02c",
   "metadata": {},
   "outputs": [
    {
     "name": "stdout",
     "output_type": "stream",
     "text": [
      "[2, 4, 6]\n"
     ]
    }
   ],
   "source": [
    "# Check if a given number is even.\n",
    "numbers = [1, 2, 3, 4, 5, 6]\n",
    "even_numbers = list(filter(lambda x: x % 2 == 0, numbers))\n",
    "print(even_numbers)\n"
   ]
  },
  {
   "cell_type": "code",
   "execution_count": 36,
   "id": "81fbfb00-0b82-4ed1-a234-786d96ccf0d0",
   "metadata": {},
   "outputs": [
    {
     "name": "stdout",
     "output_type": "stream",
     "text": [
      "[1, 3, 5, 7, 9]\n"
     ]
    }
   ],
   "source": [
    "# Filter odd numbers from the given list. [1,2,3,4,5,6,7,8,9,10]\n",
    "numbers = [1,2,3,4,5,6,7,8,9,10]\n",
    "odd_numbers = list(filter(lambda x: x%2 != 0, numbers))\n",
    "print(odd_numbers)\n"
   ]
  },
  {
   "cell_type": "code",
   "execution_count": 37,
   "id": "ff658706-8b4f-430e-a2cd-b9ff2f8c9f2a",
   "metadata": {},
   "outputs": [
    {
     "name": "stdout",
     "output_type": "stream",
     "text": [
      "[1, 2, 3, 4, 5, 6]\n",
      "[-5, -4, -3, -2, -1]\n"
     ]
    }
   ],
   "source": [
    "# Sort a list of integers into positive and negative integers lists. [1,2,3,4,5,6,-1,-2,-3,-4,-5,0]\n",
    "numbers = [1,2,3,4,5,6,-1,-2,-3,-4,-5,0]\n",
    "positive_numbers = list(filter(lambda x: x>0, numbers))\n",
    "negative_numbers = list(filter(lambda x: x<0, numbers))\n",
    "print(sorted(positive_numbers))\n",
    "print(sorted(negative_numbers))\n"
   ]
  },
  {
   "cell_type": "code",
   "execution_count": 39,
   "id": "907aaa5c-33ee-40fa-aea4-7abf2c640fea",
   "metadata": {},
   "outputs": [],
   "source": [
    "# 3. List Comprehension"
   ]
  },
  {
   "cell_type": "code",
   "execution_count": 40,
   "id": "f00821bc-04db-4abd-b8eb-35f0bb50945d",
   "metadata": {},
   "outputs": [
    {
     "name": "stdout",
     "output_type": "stream",
     "text": [
      "['apple']\n"
     ]
    }
   ],
   "source": [
    "# Check if the string starts with a particular letter.\n",
    "words = [\"apple\", \"banana\", \"orange\", \"grape\", \"mango\"]\n",
    "letter = \"a\"\n",
    "result = [word for word in words if word.startswith(letter)]\n",
    "print(result)\n"
   ]
  },
  {
   "cell_type": "code",
   "execution_count": 41,
   "id": "9b2151a4-4333-4b3e-b754-5b75b6c20a52",
   "metadata": {},
   "outputs": [
    {
     "name": "stdout",
     "output_type": "stream",
     "text": [
      "['123', '456', '789']\n"
     ]
    }
   ],
   "source": [
    "# Check if the string is numeric.\n",
    "strings = [\"123\", \"abc\", \"456\", \"def\", \"789\"]\n",
    "result = [string for string in strings if string.isnumeric()]\n",
    "print(result)\n"
   ]
  },
  {
   "cell_type": "code",
   "execution_count": 42,
   "id": "56a81ff0-ac99-40fe-afa8-61367fb90004",
   "metadata": {},
   "outputs": [
    {
     "name": "stdout",
     "output_type": "stream",
     "text": [
      "[('orange', 80), ('mango', 99), ('grapes', 1000)]\n"
     ]
    }
   ],
   "source": [
    "# Sort a list of tuples having fruit names and their quantity.\n",
    "fruits = [(\"mango\",99),(\"orange\",80), (\"grapes\", 1000)]\n",
    "sorted_fruits = sorted(fruits, key=lambda x: x[1])\n",
    "print(sorted_fruits)\n",
    "\n"
   ]
  },
  {
   "cell_type": "code",
   "execution_count": 43,
   "id": "dbb72993-9433-47b5-a0a0-6ded48f29e66",
   "metadata": {},
   "outputs": [
    {
     "name": "stdout",
     "output_type": "stream",
     "text": [
      "[1, 4, 9, 16, 25, 36, 49, 64, 81, 100]\n"
     ]
    }
   ],
   "source": [
    "# Find the squares of numbers from 1 to 10.\n",
    "squares = [x**2 for x in range(1,11)]\n",
    "print(squares)\n"
   ]
  },
  {
   "cell_type": "code",
   "execution_count": 44,
   "id": "ef726ecb-0b4c-4eea-ad1d-48e363f592dd",
   "metadata": {},
   "outputs": [
    {
     "name": "stdout",
     "output_type": "stream",
     "text": [
      "[1.0, 1.2599210498948732, 1.4422495703074083, 1.5874010519681994, 1.7099759466766968, 1.8171205928321397, 1.912931182772389, 2.0, 2.080083823051904, 2.154434690031884]\n"
     ]
    }
   ],
   "source": [
    "# Find the cube root of numbers from 1 to 10.\n",
    "import math\n",
    "cubes = [math.pow(x,1/3) for x in range(1,11)]\n",
    "print(cubes)\n"
   ]
  },
  {
   "cell_type": "code",
   "execution_count": 45,
   "id": "315b52f9-8216-4038-bf32-36b5169bac92",
   "metadata": {},
   "outputs": [
    {
     "name": "stdout",
     "output_type": "stream",
     "text": [
      "[2, 4, 6, 8, 10]\n"
     ]
    }
   ],
   "source": [
    "# Check if a given number is even.\n",
    "numbers = [1, 2, 3, 4, 5, 6, 7, 8, 9, 10]\n",
    "result = [num for num in numbers if num % 2 == 0]\n",
    "print(result)"
   ]
  },
  {
   "cell_type": "code",
   "execution_count": 46,
   "id": "bd68d97e-9707-4654-9327-6ca3975dda95",
   "metadata": {},
   "outputs": [
    {
     "name": "stdout",
     "output_type": "stream",
     "text": [
      "[1, 3, 5, 7, 9]\n"
     ]
    }
   ],
   "source": [
    "# Filter odd numbers from the given list.\n",
    "numbers = [1, 2, 3, 4, 5, 6, 7, 8, 9, 10]\n",
    "result = [num for num in numbers if num % 2 != 0]\n",
    "print(result)\n"
   ]
  },
  {
   "cell_type": "code",
   "execution_count": 47,
   "id": "73acc93d-69c8-4fc8-8892-ddba669205ee",
   "metadata": {},
   "outputs": [
    {
     "name": "stdout",
     "output_type": "stream",
     "text": [
      "Positive numbers:  [1, 2, 3, 4, 5, 6]\n",
      "Negative numbers:  [-1, -2, -3, -4, -5]\n"
     ]
    }
   ],
   "source": [
    "# Sort a list of integers into positive and negative integers lists.\n",
    "numbers = [1, 2, 3, 4, 5, 6, -1, -2, -3, -4, -5, 0]\n",
    "positive_numbers = [num for num in numbers if num > 0]\n",
    "negative_numbers = [num for num in numbers if num < 0]\n",
    "print(\"Positive numbers: \", positive_numbers)\n",
    "print(\"Negative numbers: \", negative_numbers)\n"
   ]
  },
  {
   "cell_type": "code",
   "execution_count": null,
   "id": "bbb5379d-b9d9-4e5c-8555-745463f8e405",
   "metadata": {},
   "outputs": [],
   "source": []
  }
 ],
 "metadata": {
  "kernelspec": {
   "display_name": "Python 3 (ipykernel)",
   "language": "python",
   "name": "python3"
  },
  "language_info": {
   "codemirror_mode": {
    "name": "ipython",
    "version": 3
   },
   "file_extension": ".py",
   "mimetype": "text/x-python",
   "name": "python",
   "nbconvert_exporter": "python",
   "pygments_lexer": "ipython3",
   "version": "3.10.8"
  }
 },
 "nbformat": 4,
 "nbformat_minor": 5
}
